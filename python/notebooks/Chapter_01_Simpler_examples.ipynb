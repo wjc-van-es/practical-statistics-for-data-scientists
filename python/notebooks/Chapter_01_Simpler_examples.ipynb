{
 "cells": [
  {
   "cell_type": "markdown",
   "id": "33ce6e51",
   "metadata": {},
   "source": [
    "# Practical Statistics for Data Scientists (Python)\n",
    "# Chapter 1. Exploratory Data Analysis\n",
    "> (c) 2019 Peter C. Bruce, Andrew Bruce, Peter Gedeck\n",
    "\n",
    "## Simpler examples"
   ]
  },
  {
   "cell_type": "markdown",
   "id": "fedc76ed",
   "metadata": {},
   "source": [
    "Import required Python packages."
   ]
  },
  {
   "cell_type": "code",
   "execution_count": 1,
   "id": "7146db1e",
   "metadata": {},
   "outputs": [],
   "source": [
    "from statistics import mean\n",
    "from scipy.stats import trim_mean"
   ]
  },
  {
   "cell_type": "code",
   "execution_count": 2,
   "id": "b1cc2f07",
   "metadata": {},
   "outputs": [
    {
     "data": {
      "text/plain": [
       "'The total number of marks in the list is 10'"
      ]
     },
     "execution_count": 2,
     "metadata": {},
     "output_type": "execute_result"
    }
   ],
   "source": [
    "math_marks = [8.5, 7.2, 7.5, 4.5, 5.8, 7.4, 3.9, 6.3, 8.2, 6.8]\n",
    "n = len(math_marks)\n",
    "f'The total number of marks in the list is {n}'"
   ]
  },
  {
   "cell_type": "markdown",
   "id": "9498cf29",
   "metadata": {},
   "source": [
    "### Calculating the mean value or average mark\n",
    "#### Formula for calculating the mean or average value\n",
    "\n",
    "$$\n",
    "\\begin{align*}\n",
    "\\bar{x} = \\sum_{i=1}^{n} \\frac{x_i}{n}\n",
    "\\end{align*}\n",
    "$$\n",
    "\n",
    "Therefore, in this example with the math_marks list\n",
    "\n",
    "$$\n",
    "\\begin{align*}\n",
    "\\bar{x} = \\frac{x_1 + x_2 + x_3 + x_4 + x_5 + x_6 + x_7 + x_8 + x_9 + x_{10}}{10}\n",
    "&= \\frac{8.5 + 7.2 + 7.5 + 4.5 + 5.8 + 7.4 + 3.9 + 6.3 + 8.2 + 6.8}{10}\n",
    "\\end{align*}\n",
    "$$"
   ]
  },
  {
   "cell_type": "code",
   "execution_count": 3,
   "id": "83c0570c",
   "metadata": {},
   "outputs": [
    {
     "data": {
      "text/plain": [
       "'The average mark is 6.6'"
      ]
     },
     "execution_count": 3,
     "metadata": {},
     "output_type": "execute_result"
    }
   ],
   "source": [
    "average = mean(math_marks)\n",
    "f'The average mark is {round(average, 1)}'"
   ]
  },
  {
   "cell_type": "markdown",
   "id": "07d46edb",
   "metadata": {},
   "source": [
    "### Calculating the trimmed mean value\n",
    "#### Formula for calculating the trimmed mean\n",
    "\n",
    "$$\n",
    "\\begin{align*}\n",
    "\\bar{x} = \\sum_{i=p+1}^{n-p} \\frac{x_i}{n-2p}\n",
    "\\end{align*}\n",
    "$$\n",
    "\n",
    "p is the number of larged and smallest elements to be trimmed from the list\n",
    "when we would trim 10% it would mean that p = 1\n",
    "\n",
    "That means that the largest and smallest value $x_1 = 8.5$ and $x_6 = 3.9$ respectively.\n",
    "\n",
    "Therefore, in this example with the math_marks list\n",
    "\n",
    "$$\n",
    "\\begin{align*}\n",
    "\\bar{x} = \\frac{x_2 + x_3 + x_4 + x_5 + x_7 + x_8 + x_9 + x_{10} }{10 - 2}\n",
    "&= \\frac{7.2 + 7.5 + 4.5 + 5.8 + 7.4 + 6.3 + 8.2 + 6.8}{8}\n",
    "\\end{align*}\n",
    "$$"
   ]
  },
  {
   "cell_type": "code",
   "execution_count": 4,
   "id": "d6ad94dc",
   "metadata": {},
   "outputs": [
    {
     "data": {
      "text/plain": [
       "'The average mark is 6.71'"
      ]
     },
     "execution_count": 4,
     "metadata": {},
     "output_type": "execute_result"
    }
   ],
   "source": [
    "trimmed_mean = trim_mean(math_marks, 0.1)\n",
    "f'The average mark is {round(trimmed_mean, 2)}'"
   ]
  },
  {
   "cell_type": "code",
   "execution_count": null,
   "id": "b1a1945d",
   "metadata": {},
   "outputs": [],
   "source": []
  }
 ],
 "metadata": {
  "kernelspec": {
   "display_name": "Python 3 (ipykernel)",
   "language": "python",
   "name": "python3"
  },
  "language_info": {
   "codemirror_mode": {
    "name": "ipython",
    "version": 3
   },
   "file_extension": ".py",
   "mimetype": "text/x-python",
   "name": "python",
   "nbconvert_exporter": "python",
   "pygments_lexer": "ipython3",
   "version": "3.9.6"
  }
 },
 "nbformat": 4,
 "nbformat_minor": 5
}
