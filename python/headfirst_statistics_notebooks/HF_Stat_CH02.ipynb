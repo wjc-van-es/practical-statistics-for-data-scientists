{
 "cells": [
  {
   "cell_type": "code",
   "execution_count": 1,
   "id": "4e03d4f4",
   "metadata": {},
   "outputs": [],
   "source": [
    "%matplotlib inline"
   ]
  },
  {
   "cell_type": "markdown",
   "id": "cd94d1b2",
   "metadata": {},
   "source": [
    "# Head First Statistics\n",
    "\n",
    "## by Dawn Griffiths\n",
    "\n",
    "### Copyright © 2009 O’Reilly Media, Inc. All rights reserved.\n",
    "\n",
    "### ISBN: 978-0-596-52758-7"
   ]
  },
  {
   "cell_type": "markdown",
   "id": "49da40bc",
   "metadata": {},
   "source": [
    "# Chapter 2 measuring central tendency\n",
    "## The Middle Way\n",
    "### Part 1: mean,"
   ]
  },
  {
   "cell_type": "markdown",
   "id": "03c95449",
   "metadata": {},
   "source": [
    "## Introduction\n",
    "An average number is a good way to summarize a large set of data. However, there are several ways to calculate the average of values in a data set. Which one is most appropriate depends on the circumstances as we will find out in this chapter."
   ]
  },
  {
   "cell_type": "markdown",
   "id": "b09f4e10",
   "metadata": {},
   "source": [
    "## The mean\n",
    "One common way to find the average of a bunch of numbers is to add all the numbers together, and then divide by how many numbers there are.\n",
    "### The generalized formulas\n",
    "#### When you want to calculate the mean average of all individual values $x_i$ in a dataset (where multiple instances of $x_i$ could have the same value).\n",
    "$$\n",
    "\\begin{align*}\n",
    "\\mu = \\bar{x} = \\sum_{i=1}^{n} \\frac{x_i}{n} = \\frac{x_1 + x_2 + x_3 + ... + x_n}{n}\n",
    "\\end{align*}\n",
    "$$\n",
    "#### When a lot of individual values are the same, you could rewrite this equation by multiplying all, *in this case unique*, values $x_i$ with their corresponding frequency, $f_i$  (the number of times the *same* value $x_i$ occurs), but then we have to divide by the sum of all the corresponding frequencies as well.\n",
    "$$\n",
    "\\begin{align*}\n",
    "\\mu = \\bar{x} = \\sum_{i=1}^{n} \\frac{f_i x_i}{f_i} = \\frac{f_1 x_1 + f_2 x_2 + f_3 x_3 + ... + f_n x_n}{f_1 + f_2 + f_3 + ... + f_n}\n",
    "\\end{align*}\n",
    "$$"
   ]
  },
  {
   "cell_type": "code",
   "execution_count": null,
   "id": "02c7dd7f",
   "metadata": {},
   "outputs": [],
   "source": []
  }
 ],
 "metadata": {
  "kernelspec": {
   "display_name": "Python 3 (ipykernel)",
   "language": "python",
   "name": "python3"
  },
  "language_info": {
   "codemirror_mode": {
    "name": "ipython",
    "version": 3
   },
   "file_extension": ".py",
   "mimetype": "text/x-python",
   "name": "python",
   "nbconvert_exporter": "python",
   "pygments_lexer": "ipython3",
   "version": "3.9.9"
  }
 },
 "nbformat": 4,
 "nbformat_minor": 5
}
