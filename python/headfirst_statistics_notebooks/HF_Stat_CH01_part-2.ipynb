{
 "cells": [
  {
   "cell_type": "code",
   "execution_count": 1,
   "id": "2b2c682e",
   "metadata": {},
   "outputs": [],
   "source": [
    "%matplotlib inline"
   ]
  },
  {
   "cell_type": "markdown",
   "id": "5c084bdd",
   "metadata": {},
   "source": [
    "# Head First Statistics\n",
    "\n",
    "## by Dawn Griffiths\n",
    "\n",
    "### Copyright © 2009 O’Reilly Media, Inc. All rights reserved.\n",
    "\n",
    "### ISBN: 978-0-596-52758-7"
   ]
  },
  {
   "cell_type": "markdown",
   "id": "83c90bd9",
   "metadata": {},
   "source": [
    "# Chapter 1 visualizing information\n",
    "## First Impressions\n",
    "### Part 2: histograms, cumulative frequency graphs & Line charts"
   ]
  },
  {
   "cell_type": "markdown",
   "id": "9c548c2b",
   "metadata": {},
   "source": [
    "## Histograms\n"
   ]
  }
 ],
 "metadata": {
  "kernelspec": {
   "display_name": "Python 3 (ipykernel)",
   "language": "python",
   "name": "python3"
  },
  "language_info": {
   "codemirror_mode": {
    "name": "ipython",
    "version": 3
   },
   "file_extension": ".py",
   "mimetype": "text/x-python",
   "name": "python",
   "nbconvert_exporter": "python",
   "pygments_lexer": "ipython3",
   "version": "3.9.6"
  }
 },
 "nbformat": 4,
 "nbformat_minor": 5
}
