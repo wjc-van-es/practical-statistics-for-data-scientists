{
 "cells": [
  {
   "cell_type": "code",
   "execution_count": 1,
   "id": "2b2c682e",
   "metadata": {},
   "outputs": [],
   "source": [
    "%matplotlib inline"
   ]
  },
  {
   "cell_type": "markdown",
   "id": "5c084bdd",
   "metadata": {},
   "source": [
    "# Head First Statistics\n",
    "\n",
    "## by Dawn Griffiths\n",
    "\n",
    "### Copyright © 2009 O’Reilly Media, Inc. All rights reserved.\n",
    "\n",
    "### ISBN: 978-0-596-52758-7"
   ]
  },
  {
   "cell_type": "markdown",
   "id": "83c90bd9",
   "metadata": {},
   "source": [
    "# Chapter 1 visualizing information\n",
    "## First Impressions\n",
    "### Part 2: histograms, cumulative frequency graphs & Line charts"
   ]
  },
  {
   "cell_type": "markdown",
   "id": "9c548c2b",
   "metadata": {},
   "source": [
    "## Histograms\n",
    "The data we have expressed in bar charts are devided into categories. But what if we have numerical intervals linked to frequencies, e.g. score ranges and the frequencies of scores within these ranges.\n",
    "\n",
    "| Score range | Frequency |\n",
    "| ----------: | --------: |\n",
    "|       0-199 |         5 |\n",
    "|     200-399 |        29 |\n",
    "|     400-599 |        56 |\n",
    "|     600-799 |        17 |\n",
    "|     800-999 |         3 |\n",
    "\n",
    "We could make the scorranges into categories and make a bar chart from this or we could make a **histogram**\n",
    "\n",
    "### Rules for histograms\n",
    "- using a continuous numeric scale to represent the intervals, i.e. the scores on one axis\n",
    "    - therefore their are no gaps between the bars\n",
    "- using a continuous numeric scale to represent either the frequency or the frequency *density* on the other axis\n",
    "    - the frequency is always proportional to the area of each bar\n",
    "        - when the intervals all are of equal width, we can express the height as the frequency\n",
    "        - when the intervals are of different width, we should express the height as the frequency *density*\n",
    "        \n",
    "### Making a histogram\n",
    "-  look at each of the intervals and work out how wide each of them needs to be, and what range of values each one needs to cover.\n",
    "- Histograms shouldn’t have gaps between the bars, therefore we extend their ranges slightly\n",
    "    - e.g. the ranges 0-199 and 200-399 will meet at 199.5\n",
    "    \n",
    "#### In this example of score frequencies\n",
    "- Each interval covers 200 scores, and the width of each interval is 200. Each interval has the same width.\n",
    "- As all the intervals have the same width, we create the histogram by drawing vertical bars for each range of scores, using the boundaries to form the start and end point of each bar. In this case, the height of each bar can be equal to the frequency."
   ]
  },
  {
   "cell_type": "code",
   "execution_count": 2,
   "id": "10414c0e",
   "metadata": {},
   "outputs": [
    {
     "data": {
      "image/png": "[encoded data removed]",
      "text/plain": [
       "<Figure size 432x288 with 1 Axes>"
      ]
     },
     "metadata": {
      "needs_background": "light"
     },
     "output_type": "display_data"
    }
   ],
   "source": [
    "# Still using a matplotlib bar plot to mimick teh form of a histogram\n",
    "# in this simple case\n",
    "import matplotlib.pyplot as plt\n",
    "frequencies = [5, 29, 56, 17, 3]\n",
    "intervals = ((0,199),(200, 399),(400,599),(600,799),(800,999))\n",
    "\n",
    "# In this case we use the middle values of the intervals as the x\n",
    "x = [100, 300, 500, 700, 900]\n",
    "\n",
    "# and still the simple bar chart function\n",
    "# with the x and frequencies arrays as first and second argument and\n",
    "# the interval width as width keyword argument\n",
    "bar = plt.bar(x, frequencies, width=200, zorder=3)\n",
    "plt.grid(zorder=0)\n",
    "plt.bar_label(bar) # adding the frequency values of the BarContainer as labels\n",
    "plt.show()"
   ]
  },
  {
   "cell_type": "code",
   "execution_count": null,
   "id": "29c88c5b",
   "metadata": {},
   "outputs": [],
   "source": []
  },
  {
   "cell_type": "code",
   "execution_count": null,
   "id": "dd8a93fc",
   "metadata": {},
   "outputs": [],
   "source": []
  }
 ],
 "metadata": {
  "kernelspec": {
   "display_name": "Python 3 (ipykernel)",
   "language": "python",
   "name": "python3"
  },
  "language_info": {
   "codemirror_mode": {
    "name": "ipython",
    "version": 3
   },
   "file_extension": ".py",
   "mimetype": "text/x-python",
   "name": "python",
   "nbconvert_exporter": "python",
   "pygments_lexer": "ipython3",
   "version": "3.9.6"
  }
 },
 "nbformat": 4,
 "nbformat_minor": 5
}
