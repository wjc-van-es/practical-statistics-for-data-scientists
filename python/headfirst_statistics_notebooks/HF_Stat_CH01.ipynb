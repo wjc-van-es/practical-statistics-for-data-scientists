{
 "cells": [
  {
   "cell_type": "code",
   "execution_count": 1,
   "id": "d69f8971",
   "metadata": {},
   "outputs": [],
   "source": [
    "%matplotlib inline"
   ]
  },
  {
   "cell_type": "markdown",
   "id": "6a40a5f8",
   "metadata": {},
   "source": [
    "# Head First Statistics\n",
    "\n",
    "## by Dawn Griffiths\n",
    "\n",
    "### Copyright © 2009 O’Reilly Media, Inc. All rights reserved.\n",
    "\n",
    "### ISBN: 978-0-596-52758-7"
   ]
  },
  {
   "cell_type": "markdown",
   "id": "0bf0bf1a",
   "metadata": {},
   "source": [
    "Cover:\n",
    "<div>\n",
    "    <img src=\"./images/hf_stat_front_cover.jpg\" alt=\"Book Front Cover\" style=\"width: 50%;\"/>\n",
    "</div>"
   ]
  },
  {
   "cell_type": "code",
   "execution_count": 2,
   "id": "bb18ab72",
   "metadata": {},
   "outputs": [
    {
     "name": "stdout",
     "output_type": "stream",
     "text": [
      "PYTHONPATH:  []\n",
      "sys.path: \n",
      "/home/willem/resources/git/practical-statistics-for-data-scientists/python/headfirst_statistics_notebooks\n",
      "/home/willem/anaconda3/envs/dasci/lib/python39.zip\n",
      "/home/willem/anaconda3/envs/dasci/lib/python3.9\n",
      "/home/willem/anaconda3/envs/dasci/lib/python3.9/lib-dynload\n",
      "\n",
      "/home/willem/anaconda3/envs/dasci/lib/python3.9/site-packages\n",
      "/home/willem/anaconda3/envs/dasci/lib/python3.9/site-packages/IPython/extensions\n",
      "/home/willem/.ipython\n"
     ]
    }
   ],
   "source": [
    "# test\n",
    "import os\n",
    "import sys\n",
    "\n",
    "try:\n",
    "    user_paths = os.environ['PYTHONPATH'].split(os.pathsep)\n",
    "except KeyError:\n",
    "    user_paths = []\n",
    "\n",
    "print(\"PYTHONPATH: \", user_paths)\n",
    "print(\"sys.path: \")\n",
    "for path in sys.path:\n",
    "    print(path)\n"
   ]
  },
  {
   "cell_type": "code",
   "execution_count": 3,
   "id": "7a5c0e12",
   "metadata": {},
   "outputs": [
    {
     "name": "stdout",
     "output_type": "stream",
     "text": [
      "zip: 98052-6399\n",
      "sector: Technology\n",
      "fullTimeEmployees: 181000\n",
      "longBusinessSummary: Microsoft Corporation develops, licenses, and supports software, services, devices, and solutions worldwide. Its Productivity and Business Processes segment offers Office, Exchange, SharePoint, Microsoft Teams, Office 365 Security and Compliance, and Skype for Business, as well as related Client Access Licenses (CAL); Skype, Outlook.com, OneDrive, and LinkedIn; and Dynamics 365, a set of cloud-based and on-premises business solutions for organizations and enterprise divisions. Its Intelligent Cloud segment licenses SQL, Windows Servers, Visual Studio, System Center, and related CALs; GitHub that provides a collaboration platform and code hosting service for developers; and Azure, a cloud platform. It also offers support services and Microsoft consulting services to assist customers in developing, deploying, and managing Microsoft server and desktop solutions; and training and certification on Microsoft products. Its More Personal Computing segment provides Windows original equipment manufacturer (OEM) licensing and other non-volume licensing of the Windows operating system; Windows Commercial, such as volume licensing of the Windows operating system, Windows cloud services, and other Windows commercial offerings; patent licensing; Windows Internet of Things; and MSN advertising. It also offers Surface, PC accessories, PCs, tablets, gaming and entertainment consoles, and other devices; Gaming, including Xbox hardware, and Xbox content and services; video games and third-party video game royalties; and Search, including Bing and Microsoft advertising. It sells its products through OEMs, distributors, and resellers; and directly through digital marketplaces, online stores, and retail stores. It has collaborations with Dynatrace, Inc., Morgan Stanley, Micro Focus, WPP plc, ACI Worldwide, Inc., and iCIMS, Inc., as well as strategic relationships with Avaya Holdings Corp. and wejo Limited. Microsoft Corporation was founded in 1975 and is based in Redmond, Washington.\n",
      "city: Redmond\n",
      "phone: 425 882 8080\n",
      "state: WA\n",
      "country: United States\n",
      "companyOfficers: []\n",
      "website: https://www.microsoft.com\n",
      "maxAge: 1\n",
      "address1: One Microsoft Way\n",
      "industry: Software—Infrastructure\n",
      "ebitdaMargins: 0.48648998\n",
      "profitMargins: 0.38515\n",
      "grossMargins: 0.68864995\n",
      "operatingCashflow: 81945001984\n",
      "revenueGrowth: 0.22\n",
      "operatingMargins: 0.42143002\n",
      "ebitda: 85745000448\n",
      "targetLowPrice: 299.93\n",
      "recommendationKey: buy\n",
      "grossProfits: 115856000000\n",
      "freeCashflow: 49819750400\n",
      "targetMedianPrice: 365.5\n",
      "currentPrice: 337.64\n",
      "earningsGrowth: 0.489\n",
      "currentRatio: 2.165\n",
      "returnOnAssets: 0.14589\n",
      "numberOfAnalystOpinions: 42\n",
      "targetMeanPrice: 368.36\n",
      "debtToEquity: 51.938\n",
      "returnOnEquity: 0.49303\n",
      "targetHighPrice: 412.07\n",
      "totalCash: 130584002560\n",
      "totalDebt: 78934999040\n",
      "totalRevenue: 176250994688\n",
      "totalCashPerShare: 17.393\n",
      "financialCurrency: USD\n",
      "revenuePerShare: 23.395\n",
      "quickRatio: 1.961\n",
      "recommendationMean: 1.7\n",
      "exchange: NMS\n",
      "shortName: Microsoft Corporation\n",
      "longName: Microsoft Corporation\n",
      "exchangeTimezoneName: America/New_York\n",
      "exchangeTimezoneShortName: EST\n",
      "isEsgPopulated: False\n",
      "gmtOffSetMilliseconds: -18000000\n",
      "quoteType: EQUITY\n",
      "symbol: MSFT\n",
      "messageBoardId: finmb_21835\n",
      "market: us_market\n",
      "annualHoldingsTurnover: None\n",
      "enterpriseToRevenue: 14.273\n",
      "beta3Year: None\n",
      "enterpriseToEbitda: 29.339\n",
      "52WeekChange: 0.55873036\n",
      "morningStarRiskRating: None\n",
      "forwardEps: 10.53\n",
      "revenueQuarterlyGrowth: None\n",
      "sharesOutstanding: 7507979776\n",
      "fundInceptionDate: None\n",
      "annualReportExpenseRatio: None\n",
      "totalAssets: None\n",
      "bookValue: 20.242\n",
      "sharesShort: 42981645\n",
      "sharesPercentSharesOut: 0.0057\n",
      "fundFamily: None\n",
      "lastFiscalYearEnd: 1625011200\n",
      "heldPercentInstitutions: 0.71893\n",
      "netIncomeToCommon: 67882999808\n",
      "trailingEps: 8.939\n",
      "lastDividendValue: 0.62\n",
      "SandP52WeekChange: 0.29132175\n",
      "priceToBook: 16.68017\n",
      "heldPercentInsiders: 0.00066\n",
      "nextFiscalYearEnd: 1688083200\n",
      "yield: None\n",
      "mostRecentQuarter: 1632960000\n",
      "shortRatio: 1.48\n",
      "sharesShortPreviousMonthDate: 1636934400\n",
      "floatShares: 7501073102\n",
      "beta: 0.872727\n",
      "enterpriseValue: 2515705004032\n",
      "priceHint: 2\n",
      "threeYearAverageReturn: None\n",
      "lastSplitDate: 1045526400\n",
      "lastSplitFactor: 2:1\n",
      "legalType: None\n",
      "lastDividendDate: 1637107200\n",
      "morningStarOverallRating: None\n",
      "earningsQuarterlyGrowth: 0.476\n",
      "priceToSalesTrailing12Months: 14.382866\n",
      "dateShortInterest: 1639526400\n",
      "pegRatio: 2.25\n",
      "ytdReturn: None\n",
      "forwardPE: 32.06458\n",
      "lastCapGain: None\n",
      "shortPercentOfFloat: 0.0057\n",
      "sharesShortPriorMonth: 41195079\n",
      "impliedSharesOutstanding: None\n",
      "category: None\n",
      "fiveYearAverageReturn: None\n",
      "previousClose: 339.32\n",
      "regularMarketOpen: 338.51\n",
      "twoHundredDayAverage: 286.9461\n",
      "trailingAnnualDividendYield: 0.006778262\n",
      "payoutRatio: 0.25059998\n",
      "volume24Hr: None\n",
      "regularMarketDayHigh: 339.35\n",
      "navPrice: None\n",
      "averageDailyVolume10Day: 24691100\n",
      "regularMarketPreviousClose: 339.32\n",
      "fiftyDayAverage: 331.269\n",
      "trailingAnnualDividendRate: 2.3\n",
      "open: 338.51\n",
      "toCurrency: None\n",
      "averageVolume10days: 24691100\n",
      "expireDate: None\n",
      "algorithm: None\n",
      "dividendRate: 2.48\n",
      "exDividendDate: 1644969600\n",
      "circulatingSupply: None\n",
      "startDate: None\n",
      "regularMarketDayLow: 336.14\n",
      "currency: USD\n",
      "trailingPE: 37.771564\n",
      "regularMarketVolume: 2822466\n",
      "lastMarket: None\n",
      "maxSupply: None\n",
      "openInterest: None\n",
      "marketCap: 2534994345984\n",
      "volumeAllCurrencies: None\n",
      "strikePrice: None\n",
      "averageVolume: 25935650\n",
      "dayLow: 336.14\n",
      "ask: 336.65\n",
      "askSize: 900\n",
      "volume: 2822466\n",
      "fiftyTwoWeekHigh: 349.67\n",
      "fromCurrency: None\n",
      "fiveYearAvgDividendYield: 1.42\n",
      "fiftyTwoWeekLow: 211.94\n",
      "bid: 336.6\n",
      "tradeable: False\n",
      "dividendYield: 0.0073\n",
      "bidSize: 1300\n",
      "dayHigh: 339.35\n",
      "regularMarketPrice: 337.64\n",
      "logo_url: https://logo.clearbit.com/microsoft.com\n"
     ]
    }
   ],
   "source": [
    "import requests\n",
    "import matplotlib\n",
    "import yfinance\n",
    "msft = yfinance.Ticker(\"MSFT\")\n",
    "for key, value in msft.info.items(): # you need items() to unpack key, value from a dictionary (since python 3)\n",
    "    print(f\"{key}: {value}\")"
   ]
  },
  {
   "cell_type": "markdown",
   "id": "9a71c333",
   "metadata": {},
   "source": [
    "# Chapter 1 visualizing information\n",
    "## First Impressions\n",
    "### Part 1: pie charts and bar charts"
   ]
  },
  {
   "cell_type": "markdown",
   "id": "345030e2",
   "metadata": {},
   "source": [
    "### Statistics definition\n",
    "Statistics are numbers that summarize raw facts and figures in some\n",
    "meaningful way. \n",
    "\n",
    "They present key ideas that may not be immediately\n",
    "apparent by just looking at the raw data, and by data, we mean facts or figures\n",
    "from which we can draw conclusions. \n",
    "\n",
    "#### example\n",
    "Calculate the league position of all participating teams from all the match results of the current season.\n",
    "\n",
    "This is a nice summary that save supporters lots of time."
   ]
  },
  {
   "cell_type": "markdown",
   "id": "2e3e0b0f",
   "metadata": {},
   "source": [
    "## Pie charts\n",
    "Pie charts work by splitting your data into distinct groups or categories.\n",
    "The chart consists of a circle split into wedge-shaped slices, and each slice\n",
    "represents a group. The size of each slice is proportional to how many are\n",
    "in each group compared with the others. The larger the slice, the greater\n",
    "the relative popularity of that group. The number in a particular group is\n",
    "called the **frequency**.\n",
    "\n",
    "Pie charts devide your total dataset into distinct groups or categories that are represented as slices.\n",
    "The sum of frequencies of each slice should represent 100%; the complete dataset."
   ]
  },
  {
   "cell_type": "markdown",
   "id": "b95aca33",
   "metadata": {},
   "source": [
    "### Frequency\n",
    "Frequency describes how many items there are in a particular group or interval. \n",
    "\n",
    "It’s like a count of how many there are.\n"
   ]
  },
  {
   "cell_type": "markdown",
   "id": "73e30908",
   "metadata": {},
   "source": [
    "### Example: Units of games sold by genre\n",
    "\n",
    "| Genre    | Units sold |\n",
    "| -------- | ---------- |\n",
    "| Sports   | 27,500     |\n",
    "| Strategy | 11,500     |\n",
    "| Action   | 6,000      |\n",
    "| Shooter  | 3,500      |\n",
    "| Other    | 1,500      |\n"
   ]
  },
  {
   "cell_type": "code",
   "execution_count": 4,
   "id": "6a65efe0",
   "metadata": {},
   "outputs": [
    {
     "name": "stdout",
     "output_type": "stream",
     "text": [
      "The labels variable is of type <class 'tuple'>\n",
      "The units_solds variable is of type <class 'list'>\n",
      "The explode variable is of type <class 'tuple'>\n",
      "The sales_plot_fig variable is of type <class 'matplotlib.figure.Figure'>\n",
      "The sales_plot_axes variable is of type <class 'matplotlib.axes._subplots.AxesSubplot'>\n"
     ]
    },
    {
     "data": {
      "image/png": "[encoded data removed]",
      "text/plain": [
       "<Figure size 432x288 with 1 Axes>"
      ]
     },
     "metadata": {},
     "output_type": "display_data"
    }
   ],
   "source": [
    "import matplotlib.pyplot as plt\n",
    "\n",
    "# Pie chart, where the slices will be ordered and plotted counter-clockwise:\n",
    "labels = 'Sports', 'Strategy', 'Action', 'Shooter', 'Other'\n",
    "print(f'The labels variable is of type {type(labels)}')\n",
    "units_solds = [27_500, 11_500, 6_000, 3_500, 1_500]\n",
    "print(f'The units_solds variable is of type {type(units_solds)}')\n",
    "explode = (0, 0.1, 0, 0, 0)  # only \"explode\" the 2nd slice (i.e. 'Strategy')\n",
    "print(f'The explode variable is of type {type(explode)}')\n",
    "\n",
    "sales_plot_fig, sales_plot_axes = plt.subplots() # example of tuple unpacking\n",
    "print(f'The sales_plot_fig variable is of type {type(sales_plot_fig)}')\n",
    "print(f'The sales_plot_axes variable is of type {type(sales_plot_axes)}')\n",
    "\n",
    "# Because we use a keyword arguments instead of a positional arguments for optional ones their position\n",
    "# won't matter.\n",
    "# the autopct='%1.1f%%' argument translates the numbers into percentages formatted with 1 decimal accuracy\n",
    "sales_plot_axes.pie(units_solds, explode=explode, labels=labels, autopct='%1.1f%%',\n",
    "        shadow=True, startangle=90)\n",
    "sales_plot_axes.axis('equal')  # Equal aspect ratio ensures that pie is drawn as a circle.\n",
    "\n",
    "plt.show()"
   ]
  },
  {
   "cell_type": "markdown",
   "id": "58f3c000",
   "metadata": {},
   "source": [
    "### When not to use pie charts\n",
    "Pie charts are less useful if all the slices have\n",
    "similar sizes, as it’s difficult to pick up on subtle differences between\n",
    "the slice sizes."
   ]
  },
  {
   "cell_type": "markdown",
   "id": "5ff56b96",
   "metadata": {},
   "source": [
    "### Example: visualizing satisfactory rate per genre\n",
    "| Genre    | satisfied customers in % |\n",
    "| -------- | -------------------------|\n",
    "| Sports   | 99                       |\n",
    "| Strategy | 90                       |\n",
    "| Action   | 85                       |\n",
    "| Shooter  | 95                       |\n",
    "| Other    | 85                       |\n",
    "\n",
    "#### Trying to visualize this in a pie chart"
   ]
  },
  {
   "cell_type": "code",
   "execution_count": 5,
   "id": "a170a919",
   "metadata": {},
   "outputs": [
    {
     "data": {
      "image/png": "[encoded data removed]",
      "text/plain": [
       "<Figure size 432x288 with 1 Axes>"
      ]
     },
     "metadata": {},
     "output_type": "display_data"
    }
   ],
   "source": [
    "# We want to show the original figures not the automatically calculated percentages\n",
    "# Therefore, we can use this function with the autopct keyword argument\n",
    "# See https://stackoverflow.com/questions/53782591/how-to-display-actual-values-instead-of-percentages-on-my-pie-chart-using-matplo\n",
    "def autopct_format(values):\n",
    "    def my_format(pct):\n",
    "        total = sum(values)\n",
    "        val = int(round(pct*total/100.0))\n",
    "        return '{v:d}'.format(v=val)\n",
    "    return my_format\n",
    "\n",
    "# we already have the labels tuple variable\n",
    "# The order of percentages should correspond with the labels tuple\n",
    "# which is the same as the order in the table in the previous cell\n",
    "satisfaction_rate = [99, 90, 85, 95, 85]\n",
    "\n",
    "satisfaction_fig, satisfaction_axes = plt.subplots() # example of tuple unpacking\n",
    "satisfaction_axes.pie(satisfaction_rate, labels=labels, autopct = autopct_format(satisfaction_rate))\n",
    "\n",
    "plt.show()"
   ]
  },
  {
   "cell_type": "markdown",
   "id": "3456a56d",
   "metadata": {},
   "source": [
    "There are two issues with this pie chart:\n",
    "\n",
    "- The values lie close together, so we can't easily see any significant distinction among the frequencies\n",
    "- It’s also generally confusing to label pie charts with percentages that don’t relate to the overall proportion of the slice.\n",
    "  - Here, we violate the premise that we use a pie chart, to display portions / categories that add up to a total population of 100%. The percentages here do not express the total population."
   ]
  },
  {
   "cell_type": "markdown",
   "id": "19093ef5",
   "metadata": {},
   "source": [
    "## Bar charts\n",
    "Vertical bar charts show categories on the horizontal axis, and either frequency or percentage on the vertical axis.\n",
    "\n",
    "The height of each bar indicates the value of its category. "
   ]
  },
  {
   "cell_type": "code",
   "execution_count": 6,
   "id": "60096498",
   "metadata": {},
   "outputs": [
    {
     "data": {
      "image/png": "[encoded data removed]",
      "text/plain": [
       "<Figure size 432x288 with 1 Axes>"
      ]
     },
     "metadata": {
      "needs_background": "light"
     },
     "output_type": "display_data"
    }
   ],
   "source": [
    "\n",
    "# set up the diagram\n",
    "sales_fig = plt.figure()\n",
    "sales_ax = sales_fig.add_axes([0,0,1,1])\n",
    "\n",
    "# Add captions to the diagram and its axes\n",
    "sales_ax.set_title('Sales in units per region')\n",
    "sales_ax.set_ylabel('Sales [units]')\n",
    "sales_ax.set_xlabel('Regions')\n",
    "\n",
    "# Provide the values\n",
    "regions = ['A', 'B', 'C', 'D', 'E']\n",
    "sales = [1_000,5_000,7_500,8_000,9_500]\n",
    "\n",
    "# Add grid,\n",
    "# the zorder keyword argument will help for the grid to be behind the bars\n",
    "sales_ax.grid(zorder=0)\n",
    "\n",
    "# create a vertical bar chart with the values\n",
    "# zorder keyword argument is added for the bars to appear before the grid\n",
    "# (works together with the zorder=0 argument of the previous grid function call)\n",
    "sales_bar = sales_ax.bar(regions, sales, zorder=3)\n",
    "\n",
    "# Adding the sales values on top of the bars\n",
    "sales_ax.bar_label(sales_bar, padding=3)\n",
    "\n",
    "# display the chart\n",
    "plt.show()"
   ]
  },
  {
   "cell_type": "markdown",
   "id": "d49e1cd6",
   "metadata": {},
   "source": [
    "### Variations: the horizontal bar chart\n",
    "With horizontal bar charts, you show the categories on\n",
    "the vertical axis and the frequency or percentage on the horizontal axis."
   ]
  },
  {
   "cell_type": "markdown",
   "id": "5fb196c9",
   "metadata": {},
   "source": [
    "### Again our previous example: visualizing satisfactory rate per genre\n",
    "| Genre    | satisfied customers in % |\n",
    "| -------- | -------------------------|\n",
    "| Sports   | 99                       |\n",
    "| Strategy | 90                       |\n",
    "| Action   | 85                       |\n",
    "| Shooter  | 95                       |\n",
    "| Other    | 85                       |\n",
    "\n",
    "#### Now trying to visualize this in horizontal bar chart instead of a pie chart\n",
    "Horizontal bar charts are useful if the names of your categories are long. "
   ]
  },
  {
   "cell_type": "code",
   "execution_count": 7,
   "id": "6805f769",
   "metadata": {},
   "outputs": [
    {
     "data": {
      "image/png": "[encoded data removed]",
      "text/plain": [
       "<Figure size 432x288 with 1 Axes>"
      ]
     },
     "metadata": {
      "needs_background": "light"
     },
     "output_type": "display_data"
    }
   ],
   "source": [
    "# set up the diagram\n",
    "satis_bar_fig, satis_bar_axes = plt.subplots() # example of tuple unpacking\n",
    "\n",
    "# Add captions to the diagram and its axes\n",
    "satis_bar_axes.set_title('Satisfaction rate in percentage for each genre')\n",
    "satis_bar_axes.set_ylabel('Genre')\n",
    "satis_bar_axes.set_xlabel('Satisfaction [%]')\n",
    "\n",
    "# The values labels and satisfaction_rate were set up in a previous cell\n",
    "# rerun the whole notebook if they aren't available\n",
    "\n",
    "\n",
    "# Add grid,\n",
    "# the zorder keyword argument will help for the grid to be behind the bars\n",
    "satis_bar_axes.grid(zorder=0)\n",
    "\n",
    "# create a vertical bar chart with the values\n",
    "# zorder keyword argument is added for the bars to appear before the grid\n",
    "# (works together with the zorder=0 argument of the previous grid function call)\n",
    "satis_bar = satis_bar_axes.barh(labels, satisfaction_rate, zorder=3)\n",
    "\n",
    "# reverse the order on the y axis to get a top down display of the order of the labels tuple\n",
    "satis_bar_axes.invert_yaxis()\n",
    "\n",
    "# Adding the satisfaction rating to the side of the bars\n",
    "satis_bar_axes.bar_label(satis_bar, padding=3)\n",
    "\n",
    "# display the chart\n",
    "plt.show()"
   ]
  },
  {
   "cell_type": "markdown",
   "id": "feae7f0f",
   "metadata": {},
   "source": [
    "#### When to use percentages and when frequencies\n",
    "The problem with our bar chart above is that it doesn’t tell us how many players there are for each genre. \n",
    "\n",
    "Therefore, we do not know representative these percentages are of players as a whole. When a lot more players play sports games than Strategy games than comparing these percentages per genre is not very significant.\n",
    "\n",
    "##### Warning!\n",
    "**Be very wary if you’re given percentages with no frequencies, or a frequency with no percentage.**\n",
    "\n",
    "*Sometimes this is a tactic used to hide key facts about the underlying data, as just based on a chart, you have no way of telling how representative it is of the data.*\n",
    "\n",
    "*You may find that a large percentage of people prefer one particular game genre, but that only 10 people were questioned. Alternatively, you might find that 10,000 players like sports games most, but by itself, you can’t tell whether this is a high or low proportion of all game players.*\n",
    "\n",
    "#### Bar chart variations to combine more information like frequencies and percentages\n",
    "##### The split-category bar chart\n",
    "One way of tackling this is to use one bar for the frequency of satisfied players and another for those dissatisfied, for each genre. This sort of chart is useful if you want to compare frequencies, but it’s difficult to see proportions and percentages.\n",
    "##### The segmented bar chart\n",
    "If you want to show frequencies and percentages, you can try using a segmented bar chart. For this, you use one bar for each category, but you split the bar proportionally. The overall length of the bar reflects the total frequency."
   ]
  },
  {
   "cell_type": "markdown",
   "id": "b868f946",
   "metadata": {},
   "source": [
    "### Again our previous example: visualizing satisfactory rate per genre\n",
    "#### Now trying to visualize this in horizontal segmented bar chart\n",
    "| Genre    | Total sales | satisfaction in % | satisfied customers | dissatisfied customers |\n",
    "| -------- | ----------: | ----------------: | ------------------: | ---------------------: |\n",
    "| Sports   |      27,000 |                99 |              26,730 |                    270 |\n",
    "| Strategy |      11,500 |                90 |              10,350 |                  1,150 |\n",
    "| Action   |       6,000 |                85 |               5,100 |                    900 |\n",
    "| Shooter  |       3,500 |                95 |               3,325 |                    175 |\n",
    "| Other    |       1,500 |                85 |               1,275 |                    225 |\n",
    "\n"
   ]
  },
  {
   "cell_type": "code",
   "execution_count": 8,
   "id": "caf0bd65",
   "metadata": {},
   "outputs": [
    {
     "data": {
      "image/png": "[encoded data removed]",
      "text/plain": [
       "<Figure size 432x288 with 1 Axes>"
      ]
     },
     "metadata": {
      "needs_background": "light"
     },
     "output_type": "display_data"
    }
   ],
   "source": [
    "# set up the diagram\n",
    "satis_bar_fig, satis_bar_axes = plt.subplots() # example of tuple unpacking\n",
    "\n",
    "# Add captions to the diagram and its axes\n",
    "satis_bar_axes.set_title('Satisfaction ratio in sales for each genre')\n",
    "satis_bar_axes.set_ylabel('Genre')\n",
    "satis_bar_axes.set_xlabel('Sales')\n",
    "\n",
    "# The values labels were set up in a previous cell\n",
    "# rerun the whole notebook if they aren't available\n",
    "satisfied = (26_730, 10_350, 5_100, 3_325, 1_275)\n",
    "dissatisfied = (270, 1_150, 900, 175, 225)\n",
    "\n",
    "\n",
    "# Add grid,\n",
    "# the zorder keyword argument will help for the grid to be behind the bars\n",
    "satis_bar_axes.grid(zorder=0)\n",
    "\n",
    "# create a horizontal bar chart with the values\n",
    "# zorder keyword argument is added for the bars to appear before the grid\n",
    "# (works together with the zorder=0 argument of the previous grid function call)\n",
    "satisbar = satis_bar_axes.barh(labels, satisfied, color='#0bc863', zorder=3)\n",
    "diss_bar = satis_bar_axes.barh(labels, dissatisfied, left=satisfied, color=\"#ff5500\", zorder=3)\n",
    "\n",
    "# reverse the order on the y axis to get a top down display of the order of the labels tuple\n",
    "satis_bar_axes.invert_yaxis()\n",
    "\n",
    "# add a legend for the color segments in each bar\n",
    "satis_bar_axes.legend(labels=('satisfied', 'dissatisfied'))\n",
    "\n",
    "# adding the values to the bar segments we should use label_type='center' to avoid overlap\n",
    "satis_bar_axes.bar_label(satisbar, label_type='center', padding=5)\n",
    "\n",
    "# edge will show the total values; center will show dissatisfied values\n",
    "satis_bar_axes.bar_label(diss_bar, label_type='edge', padding=20) # large padding for ample separation\n",
    "\n",
    "# display the chart\n",
    "plt.show()"
   ]
  },
  {
   "cell_type": "markdown",
   "id": "7e3a62fb",
   "metadata": {},
   "source": [
    "### Finally comparing the sales per genre for two consequetive years using a split-category bar chart\n",
    "The split-category here being years\n",
    "\n",
    "| Genre    | units sold in 2006 | Units sold in 2007 |\n",
    "| -------- | -----------------: | -----------------: |\n",
    "| Sports   |             15,900 |             27,500 |\n",
    "| Strategy |             16,850 |             11,500 |\n",
    "| Action   |              7,100 |              6,000 |\n",
    "| Shooter  |              4,900 |              3,500 |\n",
    "| Other    |              1,000 |              1,500 |\n"
   ]
  },
  {
   "cell_type": "code",
   "execution_count": 9,
   "id": "127aae1b",
   "metadata": {},
   "outputs": [
    {
     "name": "stdout",
     "output_type": "stream",
     "text": [
      "The type of the calculated y positions is <class 'numpy.ndarray'>\n",
      "The calculated y positions are [0 1 2 3 4]\n"
     ]
    },
    {
     "data": {
      "image/png": "[encoded data removed]",
      "text/plain": [
       "<Figure size 432x288 with 1 Axes>"
      ]
     },
     "metadata": {
      "needs_background": "light"
     },
     "output_type": "display_data"
    }
   ],
   "source": [
    "import numpy as np\n",
    "\n",
    "# set up the diagram\n",
    "sales_years_fig, sales_years_axes = plt.subplots() # example of tuple unpacking\n",
    "\n",
    "# Add captions to the diagram and its axes\n",
    "sales_years_axes.set_title('Sales per genre for 2006 & 2007')\n",
    "sales_years_axes.set_ylabel('Genre')\n",
    "sales_years_axes.set_xlabel('Sales [units]')\n",
    "\n",
    "# The values labels were set up in a previous cell\n",
    "# rerun the whole notebook if they aren't available\n",
    "sales_2006 = (15_900, 16_850, 7_100, 4_900, 1_000)\n",
    "sales_2007 = (27_500, 11_500, 6_000, 3_500, 1_500)\n",
    "\n",
    "# Now we need to position two bars on the y axis per genre for this we use\n",
    "y = np.arange(len(labels))  # the label locations\n",
    "print(f'The type of the calculated y positions is {type(y)}')\n",
    "print(f'The calculated y positions are {y}')\n",
    "width = 0.35  # the width of the bars\n",
    "\n",
    "# Add grid,\n",
    "# the zorder keyword argument will help for the grid to be behind the bars\n",
    "sales_years_axes.grid(zorder=0)\n",
    "\n",
    "# create a horizontal bar chart with the values\n",
    "# With split-category we use the calculated y position and the width (also as 3rd positional arg)\n",
    "# instead of using the string values of the labels tuple directly\n",
    "# zorder keyword argument is added for the bars to appear before the grid\n",
    "# (works together with the zorder=0 argument of the previous grid function call)\n",
    "barh_2006 = sales_years_axes.barh(y - width/2, sales_2006, width, color='#0bc863', zorder=3, label='2006')\n",
    "barh_2007 = sales_years_axes.barh(y + width/2, sales_2007, width, color=\"#ff5500\", zorder=3, label='2007')\n",
    "\n",
    "# reverse the order on the y axis to get a top down display of the order of the labels tuple\n",
    "sales_years_axes.invert_yaxis()\n",
    "\n",
    "# make sure the string values from the labels tuple are still used as y axis labels\n",
    "# now the bars are defined with specified y axis positions in the numpy.ndarray\n",
    "sales_years_axes.set_yticks(y)\n",
    "sales_years_axes.set_yticklabels(labels)\n",
    "\n",
    "# add a legend for the color segments in each bar\n",
    "sales_years_axes.legend(labels=('2006', '2007'))\n",
    "\n",
    "# adding the sales values to the bars\n",
    "sales_years_axes.bar_label(barh_2006, padding=4)\n",
    "sales_years_axes.bar_label(barh_2007, padding=4)\n",
    "\n",
    "# sales_years_fig.tight_layout()\n",
    "\n",
    "# display the chart\n",
    "plt.show()"
   ]
  },
  {
   "cell_type": "code",
   "execution_count": null,
   "id": "b57ea7a2",
   "metadata": {},
   "outputs": [],
   "source": []
  }
 ],
 "metadata": {
  "kernelspec": {
   "display_name": "Python 3 (ipykernel)",
   "language": "python",
   "name": "python3"
  },
  "language_info": {
   "codemirror_mode": {
    "name": "ipython",
    "version": 3
   },
   "file_extension": ".py",
   "mimetype": "text/x-python",
   "name": "python",
   "nbconvert_exporter": "python",
   "pygments_lexer": "ipython3",
   "version": "3.9.9"
  }
 },
 "nbformat": 4,
 "nbformat_minor": 5
}
